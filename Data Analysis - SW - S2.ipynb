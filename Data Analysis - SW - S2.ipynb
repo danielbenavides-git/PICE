{
 "cells": [
  {
   "cell_type": "markdown",
   "id": "7179f0a2",
   "metadata": {},
   "source": [
    "# Análisis de la base de datos \n",
    "## Universidad de los Andes - Smurfit Westrock\n",
    "### Poyecto Intermedio de Consultoría Empresarial (PICE) 202520\n",
    "Daniel Benavides"
   ]
  },
  {
   "cell_type": "code",
   "execution_count": null,
   "id": "07e75f56",
   "metadata": {},
   "outputs": [],
   "source": []
  }
 ],
 "metadata": {
  "language_info": {
   "name": "python"
  }
 },
 "nbformat": 4,
 "nbformat_minor": 5
}
